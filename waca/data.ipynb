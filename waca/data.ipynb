{
 "cells": [
  {
   "cell_type": "code",
   "execution_count": 1,
   "metadata": {},
   "outputs": [],
   "source": [
    "import pandas as pd\n",
    "import os.path\n",
    "import numpy as np\n",
    "import matplotlib\n"
   ]
  },
  {
   "cell_type": "code",
   "execution_count": 5,
   "metadata": {},
   "outputs": [],
   "source": [
    "## Set the participant we're analyzing\n",
    "\n",
    "PARTICIPANT = \"user1\"\n",
    "DATA_1 = PARTICIPANT+'_1.csv'\n",
    "DATA_2 = PARTICIPANT+'_2.csv'\n",
    "DATA_3 = PARTICIPANT+'_3.csv'\n",
    "\n",
    "#loading data in\n",
    "file_paths = ['user_data\\\\'+PARTICIPANT+'\\\\'+DATA_1, 'user_data\\\\'+PARTICIPANT+'\\\\'+DATA_2, 'user_data\\\\'+PARTICIPANT+'\\\\'+DATA_3 ]\n"
   ]
  },
  {
   "cell_type": "code",
   "execution_count": 2,
   "metadata": {},
   "outputs": [
    {
     "ename": "NameError",
     "evalue": "name 'file_paths' is not defined",
     "output_type": "error",
     "traceback": [
      "\u001b[1;31m---------------------------------------------------------------------------\u001b[0m",
      "\u001b[1;31mNameError\u001b[0m                                 Traceback (most recent call last)",
      "\u001b[1;32mc:\\Users\\Jagrit Rai\\Documents\\GitHub\\Wearable_Continuous_Authentication\\waca\\data.ipynb Cell 3'\u001b[0m in \u001b[0;36m<cell line: 5>\u001b[1;34m()\u001b[0m\n\u001b[0;32m      <a href='vscode-notebook-cell:/c%3A/Users/Jagrit%20Rai/Documents/GitHub/Wearable_Continuous_Authentication/waca/data.ipynb#ch0000002?line=0'>1</a>\u001b[0m \u001b[39m###########################\u001b[39;00m\n\u001b[0;32m      <a href='vscode-notebook-cell:/c%3A/Users/Jagrit%20Rai/Documents/GitHub/Wearable_Continuous_Authentication/waca/data.ipynb#ch0000002?line=1'>2</a>\u001b[0m \u001b[39m#  SEPERATING AND SORTING #\u001b[39;00m\n\u001b[0;32m      <a href='vscode-notebook-cell:/c%3A/Users/Jagrit%20Rai/Documents/GitHub/Wearable_Continuous_Authentication/waca/data.ipynb#ch0000002?line=2'>3</a>\u001b[0m \u001b[39m###########################\u001b[39;00m\n\u001b[1;32m----> <a href='vscode-notebook-cell:/c%3A/Users/Jagrit%20Rai/Documents/GitHub/Wearable_Continuous_Authentication/waca/data.ipynb#ch0000002?line=4'>5</a>\u001b[0m f \u001b[39m=\u001b[39m file_paths[\u001b[39m0\u001b[39m]\n\u001b[0;32m      <a href='vscode-notebook-cell:/c%3A/Users/Jagrit%20Rai/Documents/GitHub/Wearable_Continuous_Authentication/waca/data.ipynb#ch0000002?line=5'>6</a>\u001b[0m gen \u001b[39m=\u001b[39m pd\u001b[39m.\u001b[39mread_csv(f, names\u001b[39m=\u001b[39m[\u001b[39m'\u001b[39m\u001b[39mSensor\u001b[39m\u001b[39m'\u001b[39m, \u001b[39m'\u001b[39m\u001b[39mTime\u001b[39m\u001b[39m'\u001b[39m, \u001b[39m'\u001b[39m\u001b[39mX\u001b[39m\u001b[39m'\u001b[39m, \u001b[39m'\u001b[39m\u001b[39mY\u001b[39m\u001b[39m'\u001b[39m, \u001b[39m'\u001b[39m\u001b[39mZ\u001b[39m\u001b[39m'\u001b[39m], on_bad_lines\u001b[39m=\u001b[39m\u001b[39m'\u001b[39m\u001b[39mskip\u001b[39m\u001b[39m'\u001b[39m)\n\u001b[0;32m      <a href='vscode-notebook-cell:/c%3A/Users/Jagrit%20Rai/Documents/GitHub/Wearable_Continuous_Authentication/waca/data.ipynb#ch0000002?line=7'>8</a>\u001b[0m \u001b[39m#accel is 10, gyro is 4\u001b[39;00m\n",
      "\u001b[1;31mNameError\u001b[0m: name 'file_paths' is not defined"
     ]
    }
   ],
   "source": [
    "###########################\n",
    "#  SEPERATING AND SORTING #\n",
    "###########################\n",
    "\n",
    "PARTICIPANT = \"user1\"\n",
    "DATA_1 = PARTICIPANT+'_1.csv'\n",
    "DATA_2 = PARTICIPANT+'_2.csv'\n",
    "DATA_3 = PARTICIPANT+'_3.csv'\n",
    "\n",
    "#loading data in\n",
    "file_paths = ['user_data\\\\'+PARTICIPANT+'\\\\'+DATA_1, 'user_data\\\\'+PARTICIPANT+'\\\\'+DATA_2, 'user_data\\\\'+PARTICIPANT+'\\\\'+DATA_1 ]\n",
    "\n",
    "f = file_paths[0]\n",
    "gen = pd.read_csv(f, names=['Sensor', 'Time', 'X', 'Y', 'Z'], on_bad_lines='skip')\n",
    "\n",
    "#accel is 10, gyro is 4\n",
    "GYRO_ID = 4\n",
    "ACCEL_ID = 10\n",
    "\n",
    "#Separate data by sensor id \n",
    "gyro_df = gen[gen.Sensor == GYRO_ID]\n",
    "accel_df = gen[gen.Sensor == ACCEL_ID]\n",
    "\n",
    "#sort data by time \n",
    "gyro_df.sort_values('Time', inplace=True)\n",
    "accel_df.sort_values('Time', inplace=True)\n",
    "\n",
    "pd.plotting.scatter_matrix(gen, alpha=0.5,figsize=(10,10), diagonal='kde')\n",
    "\n"
   ]
  },
  {
   "cell_type": "code",
   "execution_count": 20,
   "metadata": {},
   "outputs": [
    {
     "name": "stdout",
     "output_type": "stream",
     "text": [
      "Head:\n",
      "     Sensor          Time        X         Y         Z\n",
      "11       4  7.210914e+11 -0.11638  0.049002  0.068976\n",
      "8        4  7.210947e+11 -0.11638  0.049002  0.068976\n",
      "4        4  7.210969e+11 -0.11638  0.049002  0.068976\n",
      "13       4  7.211012e+11 -0.11638  0.049002  0.068976\n",
      "9        4  7.211076e+11 -0.11638  0.049002  0.068976\n",
      "Tail\n",
      "        Sensor          Time         X         Y         Z\n",
      "61373       4  1.025265e+12 -0.001598  0.103064  0.074036\n",
      "61374       4  1.025270e+12  0.037284  0.104396  0.046872\n",
      "61377       4  1.025275e+12  0.037284  0.104396  0.046872\n",
      "61376       4  1.025279e+12  0.037284  0.104396  0.046872\n",
      "61378       4  1.025284e+12  0.065780  0.100667  0.033290\n",
      "\n",
      "Sample\n",
      "        Sensor          Time         X         Y         Z\n",
      "38106       4  9.101073e+11 -0.010120  0.067911 -0.108657\n",
      "11705       4  7.795955e+11  0.521447 -0.322509 -0.072704\n",
      "27114       4  8.556896e+11 -0.017044  0.052731  0.340885\n",
      "\n"
     ]
    },
    {
     "data": {
      "text/plain": [
       "<AxesSubplot:xlabel='y(t)', ylabel='y(t + 1)'>"
      ]
     },
     "execution_count": 20,
     "metadata": {},
     "output_type": "execute_result"
    },
    {
     "data": {
      "image/png": "[encoded data removed]",
      "text/plain": [
       "<Figure size 432x288 with 1 Axes>"
      ]
     },
     "metadata": {
      "needs_background": "light"
     },
     "output_type": "display_data"
    }
   ],
   "source": [
    "################\n",
    "# EXPERIMENT 1 #\n",
    "################\n",
    "\n",
    "#GYRO DATA\n",
    "\n",
    "#inspecting first and last 5 rows\n",
    "first = gyro_df.head()\n",
    "last = gyro_df.tail()\n",
    "print(\"Head:\\n\", first)\n",
    "print(\"Tail\\n\", last)\n",
    "print()\n",
    "\n",
    "#inspecting a random sample of data\n",
    "print(\"Sample\\n\", gyro_df.sample(3))\n",
    "print()\n",
    "\n",
    "gyro_df.plot()\n",
    "pd.plotting.lag_plot(gyro_df.iloc[:, [1,2,3,4]])\n",
    "\n"
   ]
  },
  {
   "cell_type": "code",
   "execution_count": 67,
   "metadata": {},
   "outputs": [
    {
     "data": {
      "text/plain": [
       "<AxesSubplot:xlabel='y(t)', ylabel='y(t + 1)'>"
      ]
     },
     "execution_count": 67,
     "metadata": {},
     "output_type": "execute_result"
    },
    {
     "data": {
      "image/png": "[encoded data removed]",
      "text/plain": [
       "<Figure size 432x288 with 1 Axes>"
      ]
     },
     "metadata": {
      "needs_background": "light"
     },
     "output_type": "display_data"
    }
   ],
   "source": [
    "#All of the rows, but only columns 1-4 (leaves out sensor id)\n",
    "pd.plotting.lag_plot(gen.iloc[:, [1,2,3,4]])\n"
   ]
  }
 ],
 "metadata": {
  "interpreter": {
   "hash": "336a81d32ce525826bcaf2d719a60c8fb483f90a1f34e3598cafcaf29712445b"
  },
  "kernelspec": {
   "display_name": "Python 3.10.1 64-bit",
   "language": "python",
   "name": "python3"
  },
  "language_info": {
   "codemirror_mode": {
    "name": "ipython",
    "version": 3
   },
   "file_extension": ".py",
   "mimetype": "text/x-python",
   "name": "python",
   "nbconvert_exporter": "python",
   "pygments_lexer": "ipython3",
   "version": "3.10.1"
  },
  "orig_nbformat": 4
 },
 "nbformat": 4,
 "nbformat_minor": 2
}
