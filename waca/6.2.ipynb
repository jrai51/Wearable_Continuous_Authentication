{
 "cells": [
  {
   "cell_type": "code",
   "execution_count": 1,
   "metadata": {},
   "outputs": [],
   "source": [
    "#IMPORTS\n",
    "import numpy as np\n",
    "import pandas as pd\n",
    "from sklearn.model_selection import KFold\n",
    "from sklearn.model_selection import cross_val_score\n",
    "from sklearn.neural_network import MLPClassifier\n",
    "from sklearn.model_selection import KFold\n",
    "from sklearn.model_selection import GridSearchCV #splits up your test set in eqally sized parts, uses one part as test data and the rest as training data. So it optimizes as many classifiers as parts you split your data into.\n",
    "\n",
    "from sklearn.neighbors import KNeighborsClassifier\n"
   ]
  },
  {
   "cell_type": "code",
   "execution_count": 16,
   "metadata": {},
   "outputs": [
    {
     "name": "stdout",
     "output_type": "stream",
     "text": [
      "20\n"
     ]
    }
   ],
   "source": [
    "#COUNT UNIQUE USERS\n",
    "\n",
    "df = pd.read_csv('USER-FEATURE-DATA.csv')\n",
    "\n",
    "current_row=0\n",
    "df_sample = pd.DataFrame([],columns=df.columns)\n",
    "counter = 0\n",
    "for i in np.unique(df['user1']):\n",
    "      counter +=1\n",
    "\n",
    "print(counter) "
   ]
  },
  {
   "cell_type": "code",
   "execution_count": 17,
   "metadata": {},
   "outputs": [
    {
     "name": "stdout",
     "output_type": "stream",
     "text": [
      "0       user3\n",
      "1      user19\n",
      "2      user29\n",
      "3       user4\n",
      "4      user44\n",
      "        ...  \n",
      "195    user48\n",
      "196    user19\n",
      "197    user49\n",
      "198    user46\n",
      "199    user43\n",
      "Name: user1, Length: 200, dtype: object\n"
     ]
    }
   ],
   "source": [
    "#LOAD DATA\n",
    "\n",
    "df = pd.read_csv('NEW_SAMPLES.csv')\n",
    "\n",
    "current_row=0\n",
    "df_sample = pd.DataFrame([],columns=df.columns)\n",
    "for i in np.unique(df['user1']):\n",
    "      try:\n",
    "            new_sample=df[df['user1']==i].sample(n=10)\n",
    "            df_sample=pd.concat([df_sample,new_sample],axis=0)\n",
    "      except:\n",
    "            pass\n",
    "\n",
    "df_sample = df_sample.sample(frac=1).reset_index(drop=True) #Has 5 data point per user\n",
    "\n",
    "y = df_sample.iloc[0:, 0]\n",
    "X = df_sample.iloc[0:, 1:]\n",
    "print(y) "
   ]
  },
  {
   "cell_type": "code",
   "execution_count": 14,
   "metadata": {},
   "outputs": [
    {
     "name": "stdout",
     "output_type": "stream",
     "text": [
      "SCORE: 0.625\n",
      "SCORE: 0.6\n",
      "SCORE: 0.625\n",
      "SCORE: 0.65\n",
      "SCORE: 0.65\n"
     ]
    }
   ],
   "source": [
    "#K NEAREST NEIGHBOURS\n",
    "clf = KNeighborsClassifier(n_neighbors=1,algorithm='auto', metric='euclidean')\n",
    "\n",
    "kf = KFold(n_splits=5)\n",
    "\n",
    "for train_index, test_index in kf.split(X):\n",
    "    X_train , X_test = X.iloc[train_index,:],X.iloc[test_index,:]\n",
    "    y_train , y_test = y[train_index] , y[test_index]\n",
    "\n",
    "    clf.fit(X_train, y_train)\n",
    "    print('SCORE:', clf.score(X_test, y_test))"
   ]
  },
  {
   "cell_type": "code",
   "execution_count": 15,
   "metadata": {},
   "outputs": [
    {
     "name": "stdout",
     "output_type": "stream",
     "text": [
      "n attrb = 102\n",
      "n users = 20\n",
      "SCORE: 0.75\n",
      " number of iterations the solver:  599\n",
      "num of layers:  3\n",
      "SCORE: 0.725\n",
      " number of iterations the solver:  824\n",
      "num of layers:  3\n",
      "SCORE: 0.75\n",
      " number of iterations the solver:  475\n",
      "num of layers:  3\n",
      "SCORE: 0.8\n",
      " number of iterations the solver:  924\n",
      "num of layers:  3\n",
      "SCORE: 0.725\n",
      " number of iterations the solver:  962\n",
      "num of layers:  3\n"
     ]
    }
   ],
   "source": [
    "#TRAINING\n",
    "\n",
    "kf = KFold(n_splits=5)\n",
    "\n",
    "ATTRIBUTES = len(X.columns)\n",
    "print('n attrb =', ATTRIBUTES)\n",
    "USERS = y.nunique()\n",
    "print('n users =', USERS)\n",
    "neurons = (ATTRIBUTES + USERS) // 2 \n",
    "clf = MLPClassifier(hidden_layer_sizes=(neurons,), solver='lbfgs', momentum=0.2, learning_rate_init=0.3, random_state=0)\n",
    "\n",
    "clf.max_iter = 10000\n",
    "\n",
    "clf.n_layers_ = 5\n",
    "\n",
    "#got rid of:\n",
    "#hidden_layer_sizes=(1,) (scores all zeroes)\n",
    "#  l\n",
    "#\n",
    "# look into RandomSearchCV\n",
    "param_grid = [\n",
    "        {\n",
    "            'activation' : ['identity', 'logistic', 'tanh', 'relu'],\n",
    "            'solver' : ['lbfgs', 'sgd'],\n",
    "            'hidden_layer_sizes': [\n",
    "              (neurons-10,), (neurons-5,), (neurons,), (neurons+5,), (neurons+10,)\n",
    "             ],\n",
    "             'momentum': [0.1,0.2,0.3],\n",
    "             'learning_rate_init':[0.2,0.3,0.4]\n",
    "        }\n",
    "       ]\n",
    "\n",
    "GRID_SEARCH_TEST = False \n",
    "\n",
    "for train_index, test_index in kf.split(X):\n",
    "    X_train , X_test = X.iloc[train_index,:],X.iloc[test_index,:]\n",
    "    y_train , y_test = y[train_index] , y[test_index]\n",
    "\n",
    "    if GRID_SEARCH_TEST:\n",
    "        clf = GridSearchCV(MLPClassifier(), param_grid, cv=3, scoring='accuracy')\n",
    "        clf.fit(X_train, y_train)\n",
    "        print('params:', clf.best_params_)\n",
    "    else:\n",
    "      clf.n_layers_ = 5\n",
    "      clf.fit(X_train, y_train)\n",
    "\n",
    "      print('SCORE:', clf.score(X_test, y_test))\n",
    "    \n",
    "    \n",
    "    #EXTRA INFO:\n",
    "     \n",
    "\n",
    "      #print('current loss computed with the loss function: ',clf.loss_)\n",
    "      #print('coefs: ', clf.coefs_)\n",
    "      #print('intercepts: ',clf.intercepts_)\n",
    "      print(' number of iterations the solver: ', clf.n_iter_)\n",
    "      print('num of layers: ', clf.n_layers_)\n",
    "      #print('Num of o/p: ', clf.n_outputs_) \n",
    "      \n",
    "    \n",
    "\n"
   ]
  }
 ],
 "metadata": {
  "kernelspec": {
   "display_name": "Python 3.10.1 64-bit",
   "language": "python",
   "name": "python3"
  },
  "language_info": {
   "codemirror_mode": {
    "name": "ipython",
    "version": 3
   },
   "file_extension": ".py",
   "mimetype": "text/x-python",
   "name": "python",
   "nbconvert_exporter": "python",
   "pygments_lexer": "ipython3",
   "version": "3.10.1"
  },
  "orig_nbformat": 4,
  "vscode": {
   "interpreter": {
    "hash": "336a81d32ce525826bcaf2d719a60c8fb483f90a1f34e3598cafcaf29712445b"
   }
  }
 },
 "nbformat": 4,
 "nbformat_minor": 2
}
