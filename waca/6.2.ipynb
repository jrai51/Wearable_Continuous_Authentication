{
 "cells": [
  {
   "cell_type": "code",
   "execution_count": 75,
   "metadata": {},
   "outputs": [],
   "source": [
    "#IMPORTS\n",
    "import numpy as np\n",
    "import pandas as pd\n",
    "from sklearn.model_selection import KFold\n",
    "from sklearn.model_selection import cross_val_score\n",
    "from sklearn.neural_network import MLPClassifier\n",
    "from sklearn.model_selection import KFold\n",
    "from sklearn.model_selection import GridSearchCV #splits up your test set in eqally sized parts, uses one part as test data and the rest as training data. So it optimizes as many classifiers as parts you split your data into.\n",
    "\n",
    "from sklearn.neighbors import KNeighborsClassifier\n",
    "from sklearn.ensemble import RandomForestClassifier\n"
   ]
  },
  {
   "cell_type": "code",
   "execution_count": 76,
   "metadata": {},
   "outputs": [
    {
     "name": "stdout",
     "output_type": "stream",
     "text": [
      "20\n"
     ]
    }
   ],
   "source": [
    "#COUNT UNIQUE USERS\n",
    "\n",
    "df = pd.read_csv('USER-FEATURE-DATA.csv')\n",
    "\n",
    "current_row=0\n",
    "df_sample = pd.DataFrame([],columns=df.columns)\n",
    "counter = 0\n",
    "for i in np.unique(df['user1']):\n",
    "      counter +=1\n",
    "\n",
    "print(counter) "
   ]
  },
  {
   "cell_type": "code",
   "execution_count": 77,
   "metadata": {},
   "outputs": [
    {
     "name": "stdout",
     "output_type": "stream",
     "text": [
      "0      user1\n",
      "1     user19\n",
      "2      user2\n",
      "3     user27\n",
      "4     user28\n",
      "5     user29\n",
      "6      user3\n",
      "7     user33\n",
      "8     user35\n",
      "9     user36\n",
      "10    user39\n",
      "11     user4\n",
      "12    user40\n",
      "13    user43\n",
      "14    user44\n",
      "15    user46\n",
      "16    user47\n",
      "17    user48\n",
      "18    user49\n",
      "19     user7\n",
      "20     user1\n",
      "21    user19\n",
      "22     user2\n",
      "23    user27\n",
      "24    user28\n",
      "25    user29\n",
      "26     user3\n",
      "27    user33\n",
      "28    user35\n",
      "29    user36\n",
      "30    user39\n",
      "31     user4\n",
      "32    user40\n",
      "33    user43\n",
      "34    user44\n",
      "35    user46\n",
      "36    user47\n",
      "37    user48\n",
      "38    user49\n",
      "39     user7\n",
      "40     user1\n",
      "41    user19\n",
      "Name: user1, dtype: object\n"
     ]
    }
   ],
   "source": [
    "#LOAD DATA\n",
    "\n",
    "df = pd.read_csv('NEW_SAMPLES.csv')\n",
    "\n",
    "current_row=0\n",
    "df_sample = pd.DataFrame([],columns=df.columns)\n",
    "\n",
    "samples = []\n",
    "\n",
    "N = 10\n",
    "\n",
    "for i in np.unique(df['user1']):\n",
    "      try:\n",
    "            new_sample=df[df['user1']==i].sample(n=N)\n",
    "            samples.append(new_sample)\n",
    "            \n",
    "      except:\n",
    "            pass\n",
    "df_sample = []\n",
    "\n",
    "for i in range(0, N):\n",
    "      for j in range(0, len(samples)):\n",
    "            data_slice = samples[j].iloc[i:i+1, :]\n",
    "            df_sample.append(data_slice)\n",
    "#print(df_sample[2].iloc[0:, 0])\n",
    "\n",
    "df_sample = pd.concat(df_sample, axis=0, ignore_index=True)\n",
    "\n",
    "\n",
    "y = df_sample.iloc[0:, 0]\n",
    "X = df_sample.iloc[0:, 1:]\n",
    "print(y.head(42))"
   ]
  },
  {
   "cell_type": "code",
   "execution_count": 102,
   "metadata": {},
   "outputs": [
    {
     "name": "stdout",
     "output_type": "stream",
     "text": [
      "SCORE: 0.75\n",
      "SCORE: 0.675\n",
      "SCORE: 0.8\n",
      "SCORE: 0.75\n",
      "SCORE: 0.75\n"
     ]
    }
   ],
   "source": [
    "#K NEAREST NEIGHBOURS\n",
    "clf = KNeighborsClassifier(n_neighbors=1,algorithm='auto', metric='euclidean')\n",
    "\n",
    "kf = KFold(n_splits=5)\n",
    "\n",
    "for train_index, test_index in kf.split(X):\n",
    "    X_train , X_test = X.iloc[train_index,:],X.iloc[test_index,:]\n",
    "    y_train , y_test = y[train_index] , y[test_index]\n",
    "\n",
    "    clf.fit(X_train, y_train)\n",
    "    print('SCORE:', clf.score(X_test, y_test))"
   ]
  },
  {
   "cell_type": "code",
   "execution_count": 127,
   "metadata": {},
   "outputs": [
    {
     "name": "stdout",
     "output_type": "stream",
     "text": [
      "SCORE: 0.825\n",
      "SCORE: 0.65\n",
      "SCORE: 0.825\n",
      "SCORE: 0.8\n",
      "SCORE: 0.775\n"
     ]
    }
   ],
   "source": [
    "#RANDOM FORESTS CLASSIFIER\n",
    "import math\n",
    "clf = RandomForestClassifier(n_estimators=100, random_state=0)\n",
    "\n",
    "kf = KFold(n_splits=5)\n",
    "\n",
    "for train_index, test_index in kf.split(X):\n",
    "    X_train , X_test = X.iloc[train_index,:],X.iloc[test_index,:]\n",
    "    y_train , y_test = y[train_index] , y[test_index]\n",
    "\n",
    "    clf.fit(X_train, y_train)\n",
    "    print('SCORE:', clf.score(X_test, y_test))\n"
   ]
  },
  {
   "cell_type": "code",
   "execution_count": null,
   "metadata": {},
   "outputs": [
    {
     "name": "stdout",
     "output_type": "stream",
     "text": [
      "n attrb = 102\n",
      "n users = 20\n",
      "SCORE: 0.725\n",
      "SCORE: 0.8\n",
      "SCORE: 0.75\n",
      "SCORE: 0.9\n",
      "SCORE: 0.825\n"
     ]
    }
   ],
   "source": [
    "#TRAINING\n",
    "\n",
    "kf = KFold(n_splits=5)\n",
    "\n",
    "ATTRIBUTES = len(X.columns)\n",
    "print('n attrb =', ATTRIBUTES)\n",
    "USERS = y.nunique()\n",
    "print('n users =', USERS)\n",
    "neurons = (ATTRIBUTES + USERS) // 2 \n",
    "clf = MLPClassifier(hidden_layer_sizes=(neurons,), solver='lbfgs', momentum=0.2, learning_rate_init=0.3, random_state=0)\n",
    "\n",
    "clf.max_iter = 10000\n",
    "\n",
    "clf.n_layers_ = 5\n",
    "\n",
    "#got rid of:\n",
    "#hidden_layer_sizes=(1,) (scores all zeroes)\n",
    "#  l\n",
    "#\n",
    "# look into RandomSearchCV\n",
    "param_grid = [\n",
    "        {\n",
    "            'activation' : ['identity', 'logistic', 'tanh', 'relu'],\n",
    "            'solver' : ['lbfgs', 'sgd'],\n",
    "            'hidden_layer_sizes': [\n",
    "              (neurons-10,), (neurons-5,), (neurons,), (neurons+5,), (neurons+10,)\n",
    "             ],\n",
    "             'momentum': [0.1,0.2,0.3],\n",
    "             'learning_rate_init':[0.2,0.3,0.4]\n",
    "        }\n",
    "       ]\n",
    "\n",
    "GRID_SEARCH_TEST = False \n",
    "\n",
    "for train_index, test_index in kf.split(X):\n",
    "    X_train , X_test = X.iloc[train_index,:],X.iloc[test_index,:]\n",
    "    y_train , y_test = y[train_index] , y[test_index]\n",
    "\n",
    "    if GRID_SEARCH_TEST:\n",
    "        clf = GridSearchCV(MLPClassifier(), param_grid, cv=3, scoring='accuracy')\n",
    "        clf.fit(X_train, y_train)\n",
    "        print('params:', clf.best_params_)\n",
    "    else:\n",
    "      clf.n_layers_ = 5\n",
    "      clf.fit(X_train, y_train)\n",
    "\n",
    "      print('SCORE:', clf.score(X_test, y_test))\n",
    "    \n",
    "    \n",
    "    #EXTRA INFO:\n",
    "     \n",
    "\n",
    "      #print('current loss computed with the loss function: ',clf.loss_)\n",
    "      #print('coefs: ', clf.coefs_)\n",
    "      #print('intercepts: ',clf.intercepts_)\n",
    "      #print(' number of iterations the solver: ', clf.n_iter_)\n",
    "      #print('num of layers: ', clf.n_layers_)\n",
    "      #print('Num of o/p: ', clf.n_outputs_) \n",
    "      \n",
    "    \n",
    "\n"
   ]
  }
 ],
 "metadata": {
  "kernelspec": {
   "display_name": "Python 3.10.1 64-bit",
   "language": "python",
   "name": "python3"
  },
  "language_info": {
   "codemirror_mode": {
    "name": "ipython",
    "version": 3
   },
   "file_extension": ".py",
   "mimetype": "text/x-python",
   "name": "python",
   "nbconvert_exporter": "python",
   "pygments_lexer": "ipython3",
   "version": "3.10.1"
  },
  "orig_nbformat": 4,
  "vscode": {
   "interpreter": {
    "hash": "336a81d32ce525826bcaf2d719a60c8fb483f90a1f34e3598cafcaf29712445b"
   }
  }
 },
 "nbformat": 4,
 "nbformat_minor": 2
}
