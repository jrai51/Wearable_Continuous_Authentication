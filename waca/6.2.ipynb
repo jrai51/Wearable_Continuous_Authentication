{
 "cells": [
  {
   "cell_type": "code",
   "execution_count": 1,
   "metadata": {},
   "outputs": [],
   "source": [
    "#IMPORTS\n",
    "import numpy as np\n",
    "import pandas as pd\n",
    "from sklearn.model_selection import KFold\n",
    "from sklearn.model_selection import cross_val_score\n",
    "from sklearn.neural_network import MLPClassifier\n",
    "from sklearn.model_selection import KFold\n",
    "from sklearn.model_selection import GridSearchCV #splits up your test set in eqally sized parts, uses one part as test data and the rest as training data. So it optimizes as many classifiers as parts you split your data into.\n"
   ]
  },
  {
   "cell_type": "code",
   "execution_count": 2,
   "metadata": {},
   "outputs": [
    {
     "name": "stdout",
     "output_type": "stream",
     "text": [
      "user1\n"
     ]
    }
   ],
   "source": [
    "#LOAD DATA\n",
    "df = pd.read_csv('USER-FEATURE-DATA.csv')\n",
    "y = df.iloc[:, 0]\n",
    "X = df.iloc[:, 1:]\n",
    "print(y[5]) #Can't directly reference the index, must do this weird 0 indexing "
   ]
  },
  {
   "cell_type": "code",
   "execution_count": 25,
   "metadata": {},
   "outputs": [
    {
     "name": "stdout",
     "output_type": "stream",
     "text": [
      "n attrb = 102\n",
      "n users = 20\n",
      "SCORE: 0.058823529411764705\n",
      "SCORE: 0.13725490196078433\n",
      "SCORE: 0.2549019607843137\n",
      "SCORE: 0.27450980392156865\n",
      "SCORE: 0.04\n"
     ]
    }
   ],
   "source": [
    "#TRAINING\n",
    "kf = KFold(n_splits=5)\n",
    "\n",
    "ATTRIBUTES = len(X.columns)\n",
    "print('n attrb =', ATTRIBUTES)\n",
    "USERS = y.nunique()\n",
    "print('n users =', USERS)\n",
    "neurons = (ATTRIBUTES + USERS) // 2 \n",
    "clf = MLPClassifier(hidden_layer_sizes=(neurons,), solver='lbfgs', momentum=0.2, learning_rate_init=0.3, random_state=0)\n",
    "clf.n_layers_ = 3\n",
    "clf.max_iter = 1000\n",
    "#got rid of:\n",
    "#hidden_layer_sizes=(1,) (scores all zeroes)\n",
    "#  l\n",
    "#\n",
    "# look into RandomSearchCV\n",
    "param_grid = [\n",
    "        {\n",
    "            'activation' : ['identity', 'logistic', 'tanh', 'relu'],\n",
    "            'solver' : ['lbfgs', 'sgd'],\n",
    "            'hidden_layer_sizes': [\n",
    "              (neurons-10,), (neurons-5,), (neurons,), (neurons+5,), (neurons+10,)\n",
    "             ],\n",
    "             'momentum': [0.1,0.2,0.3],\n",
    "             'learning_rate_init':[0.2,0.3,0.4]\n",
    "        }\n",
    "       ]\n",
    "\n",
    "GRID_SEARCH_TEST = False \n",
    "\n",
    "for train_index, test_index in kf.split(X):\n",
    "    X_train , X_test = X.iloc[train_index,:],X.iloc[test_index,:]\n",
    "    y_train , y_test = y[train_index] , y[test_index]\n",
    "\n",
    "    if GRID_SEARCH_TEST:\n",
    "        clf = GridSearchCV(MLPClassifier(), param_grid, cv=3, scoring='accuracy')\n",
    "        clf.fit(X_train, y_train)\n",
    "        print('params:', clf.best_params_)\n",
    "    else:\n",
    "      clf.fit(X_train, y_train)\n",
    "      print('SCORE:', clf.score(X_test, y_test))\n",
    "    \"\"\" \n",
    "    EXTRA INFO:\n",
    "    # \n",
    "\n",
    "      print('current loss computed with the loss function: ',clf.loss_)\n",
    "      #print('coefs: ', clf.coefs_)\n",
    "      print('intercepts: ',clf.intercepts_)\n",
    "      print(' number of iterations the solver: ', clf.n_iter_)\n",
    "      print('num of layers: ', clf.n_layers_)\n",
    "      print('Num of o/p: ', clf.n_outputs_) \n",
    "      \n",
    "      \"\"\"\n",
    "\n"
   ]
  }
 ],
 "metadata": {
  "interpreter": {
   "hash": "7b61f3538714a09ae3d3e98b710d5893444287a7cd45d690a9d223e503e88e1b"
  },
  "kernelspec": {
   "display_name": "Python 3.9.13 64-bit (windows store)",
   "language": "python",
   "name": "python3"
  },
  "language_info": {
   "codemirror_mode": {
    "name": "ipython",
    "version": 3
   },
   "file_extension": ".py",
   "mimetype": "text/x-python",
   "name": "python",
   "nbconvert_exporter": "python",
   "pygments_lexer": "ipython3",
   "version": "3.9.13"
  },
  "orig_nbformat": 4
 },
 "nbformat": 4,
 "nbformat_minor": 2
}
