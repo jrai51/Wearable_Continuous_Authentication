{
 "cells": [
  {
   "cell_type": "code",
   "execution_count": 1,
   "metadata": {},
   "outputs": [],
   "source": [
    "#############\n",
    "## IMPORTS ##\n",
    "#############\n",
    "\n",
    "import pandas as pd\n",
    "import os.path\n",
    "import numpy as np\n",
    "import matplotlib\n",
    "from scipy import signal\n"
   ]
  },
  {
   "cell_type": "code",
   "execution_count": null,
   "metadata": {},
   "outputs": [],
   "source": [
    "###################\n",
    "## PREPROCESSING ##\n",
    "###################\n",
    "## Set the participant we're analyzing\n",
    "\n",
    "PARTICIPANT = \"user1\"\n",
    "DATA_1 = PARTICIPANT+'_1.csv'\n",
    "DATA_2 = PARTICIPANT+'_2.csv'\n",
    "DATA_3 = PARTICIPANT+'_3.csv'\n",
    "\n",
    "#loading data in\n",
    "file_paths = ['user_data\\\\'+PARTICIPANT+'\\\\'+DATA_1, 'user_data\\\\'+PARTICIPANT+'\\\\'+DATA_2, 'user_data\\\\'+PARTICIPANT+'\\\\'+DATA_3 ]\n",
    "f = file_paths[0]\n",
    "df = pd.read_csv(f, on_bad_lines='skip')\n",
    "\n",
    "#Applying Moving Average Filter \n",
    "L= 5 #L-point filter\n",
    "b = (np.ones(L))/L #numerator co-effs of filter transfer function\n",
    "a = np.ones(1)  #denominator co-effs of filter transfer function\n",
    "x = np.random.randn(10) #10 random samples for x"
   ]
  }
 ],
 "metadata": {
  "interpreter": {
   "hash": "7e65e4cc6daf4a8006c5864b45d61f4b85c8e312d3f00cf6ba69baef38219746"
  },
  "kernelspec": {
   "display_name": "Python 3.9.7 ('base')",
   "language": "python",
   "name": "python3"
  },
  "language_info": {
   "codemirror_mode": {
    "name": "ipython",
    "version": 3
   },
   "file_extension": ".py",
   "mimetype": "text/x-python",
   "name": "python",
   "nbconvert_exporter": "python",
   "pygments_lexer": "ipython3",
   "version": "3.9.7"
  },
  "orig_nbformat": 4
 },
 "nbformat": 4,
 "nbformat_minor": 2
}
