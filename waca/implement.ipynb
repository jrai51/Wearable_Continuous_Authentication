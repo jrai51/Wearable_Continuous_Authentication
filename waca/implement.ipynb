{
 "cells": [
  {
   "cell_type": "code",
   "execution_count": 2,
   "metadata": {},
   "outputs": [],
   "source": [
    "#############\n",
    "## IMPORTS ##\n",
    "#############\n",
    "\n",
    "import pandas as pd\n",
    "import os.path\n",
    "import numpy as np\n",
    "import matplotlib\n",
    "from scipy import signal\n"
   ]
  },
  {
   "cell_type": "code",
   "execution_count": 60,
   "metadata": {},
   "outputs": [
    {
     "name": "stderr",
     "output_type": "stream",
     "text": [
      "c:\\Users\\Jagrit Rai\\anaconda3\\lib\\site-packages\\pandas\\util\\_decorators.py:311: SettingWithCopyWarning: \n",
      "A value is trying to be set on a copy of a slice from a DataFrame\n",
      "\n",
      "See the caveats in the documentation: https://pandas.pydata.org/pandas-docs/stable/user_guide/indexing.html#returning-a-view-versus-a-copy\n",
      "  return func(*args, **kwargs)\n"
     ]
    }
   ],
   "source": [
    "###################\n",
    "## PREPROCESSING ##\n",
    "###################\n",
    "## Set the participant we're analyzing\n",
    "\n",
    "PARTICIPANT = \"user1\"\n",
    "DATA_1 = PARTICIPANT+'_1.csv'\n",
    "DATA_2 = PARTICIPANT+'_2.csv'\n",
    "DATA_3 = PARTICIPANT+'_3.csv'\n",
    "\n",
    "#loading data in\n",
    "file_paths = ['user_data\\\\'+PARTICIPANT+'\\\\'+DATA_1, 'user_data\\\\'+PARTICIPANT+'\\\\'+DATA_2, 'user_data\\\\'+PARTICIPANT+'\\\\'+DATA_1 ]\n",
    "f = file_paths[0]\n",
    "\n",
    "#accel is 10, gyro is 4\n",
    "GYRO_ID = 4\n",
    "ACCEL_ID = 10\n",
    "gen = pd.read_csv(f, names=['Sensor', 'Time', 'X', 'Y', 'Z'], on_bad_lines='skip') #general data\n",
    "\n",
    "#Separate data by sensor id \n",
    "gyro_df = gen[gen.Sensor == GYRO_ID]\n",
    "accel_df = gen[gen.Sensor == ACCEL_ID]\n",
    "\n",
    "\n",
    "\n",
    "#sort data by time \n",
    "gyro_df.sort_values('Time', inplace=True)\n",
    "accel_df.sort_values('Time', inplace=True)\n",
    "\n",
    "#data is now separated and ordered by time, ready for M-point filer\n",
    "\n"
   ]
  },
  {
   "cell_type": "code",
   "execution_count": 61,
   "metadata": {},
   "outputs": [
    {
     "name": "stdout",
     "output_type": "stream",
     "text": [
      "    Sensor          Time        X         Y         Z\n",
      "11       4  7.210914e+11 -0.11638  0.049002  0.068976\n",
      "8        4  7.210947e+11 -0.11638  0.049002  0.068976\n",
      "4        4  7.210969e+11 -0.11638  0.049002  0.068976\n",
      "13       4  7.211012e+11 -0.11638  0.049002  0.068976\n",
      "9        4  7.211076e+11 -0.11638  0.049002  0.068976\n",
      "    Sensor          Time         X         Y         Z\n",
      "12      10  7.210794e+11 -1.297232 -1.685075  0.404865\n",
      "10      10  7.210914e+11 -1.297232 -1.685075  0.404865\n",
      "2       10  7.210969e+11 -1.297232 -1.685075  0.404865\n",
      "7       10  7.211076e+11 -1.297232 -1.685075  0.404865\n",
      "1       10  7.211231e+11 -1.297232 -1.685075  0.404865\n"
     ]
    },
    {
     "ename": "NameError",
     "evalue": "name 'new_' is not defined",
     "output_type": "error",
     "traceback": [
      "\u001b[1;31m---------------------------------------------------------------------------\u001b[0m",
      "\u001b[1;31mNameError\u001b[0m                                 Traceback (most recent call last)",
      "\u001b[1;32mC:\\Users\\JAGRIT~1\\AppData\\Local\\Temp/ipykernel_21696/622268305.py\u001b[0m in \u001b[0;36m<module>\u001b[1;34m\u001b[0m\n\u001b[0;32m     17\u001b[0m     \u001b[0mnew_row\u001b[0m \u001b[1;33m=\u001b[0m \u001b[1;33m[\u001b[0m\u001b[1;33m]\u001b[0m\u001b[1;33m\u001b[0m\u001b[1;33m\u001b[0m\u001b[0m\n\u001b[0;32m     18\u001b[0m     \u001b[1;32mfor\u001b[0m \u001b[0mi\u001b[0m \u001b[1;32min\u001b[0m \u001b[0mrange\u001b[0m\u001b[1;33m(\u001b[0m\u001b[1;36m0\u001b[0m\u001b[1;33m,\u001b[0m \u001b[0mM\u001b[0m\u001b[1;33m)\u001b[0m\u001b[1;33m:\u001b[0m\u001b[1;33m\u001b[0m\u001b[1;33m\u001b[0m\u001b[0m\n\u001b[1;32m---> 19\u001b[1;33m         \u001b[0mnew_\u001b[0m\u001b[1;33m\u001b[0m\u001b[1;33m\u001b[0m\u001b[0m\n\u001b[0m\u001b[0;32m     20\u001b[0m \u001b[1;33m\u001b[0m\u001b[0m\n\u001b[0;32m     21\u001b[0m \u001b[1;33m\u001b[0m\u001b[0m\n",
      "\u001b[1;31mNameError\u001b[0m: name 'new_' is not defined"
     ]
    }
   ],
   "source": [
    "##################################\n",
    "# APPLYING MOVING AVERAGE FILTER #\n",
    "##################################\n",
    "\n",
    "print(gyro_df.head())\n",
    "print(accel_df.head())\n",
    "\n",
    "#data is now separated and ordered by time, ready for M-point filer\n",
    "\n",
    "#Applying Moving Average Filter \n",
    "\n",
    "\n",
    "M = 10 #M-point filter\n",
    "\n",
    "for i in range(0, len(gyro_df)):\n",
    "    row = gyro_df.iloc[[M]]\n",
    "    for i in range(0, M):\n",
    "        pass\n",
    "        \n",
    "    \n",
    "\n",
    "print(row)\n",
    "    \n",
    "\n"
   ]
  }
 ],
 "metadata": {
  "interpreter": {
   "hash": "7e65e4cc6daf4a8006c5864b45d61f4b85c8e312d3f00cf6ba69baef38219746"
  },
  "kernelspec": {
   "display_name": "Python 3.9.7 ('base')",
   "language": "python",
   "name": "python3"
  },
  "language_info": {
   "codemirror_mode": {
    "name": "ipython",
    "version": 3
   },
   "file_extension": ".py",
   "mimetype": "text/x-python",
   "name": "python",
   "nbconvert_exporter": "python",
   "pygments_lexer": "ipython3",
   "version": "3.9.7"
  },
  "orig_nbformat": 4
 },
 "nbformat": 4,
 "nbformat_minor": 2
}
